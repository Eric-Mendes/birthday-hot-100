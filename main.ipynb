{
  "nbformat": 4,
  "nbformat_minor": 0,
  "metadata": {
    "colab": {
      "name": "main.ipynb",
      "provenance": [],
      "collapsed_sections": [],
      "authorship_tag": "ABX9TyNqvGOLaOu7lLjE5DZgTgOM",
      "include_colab_link": true
    },
    "kernelspec": {
      "name": "python3",
      "display_name": "Python 3"
    },
    "language_info": {
      "name": "python"
    }
  },
  "cells": [
    {
      "cell_type": "markdown",
      "metadata": {
        "id": "view-in-github",
        "colab_type": "text"
      },
      "source": [
        "<a href=\"https://colab.research.google.com/github/Eric-Mendes/birthday-hot-100/blob/main/main.ipynb\" target=\"_parent\"><img src=\"https://colab.research.google.com/assets/colab-badge.svg\" alt=\"Open In Colab\"/></a>"
      ]
    },
    {
      "cell_type": "markdown",
      "metadata": {
        "id": "rI6WqrlB7r2U"
      },
      "source": [
        "# Birthday Hot 100"
      ]
    },
    {
      "cell_type": "code",
      "metadata": {
        "id": "gg4YtKsj1zlG"
      },
      "source": [
        "import pandas as pd\n",
        "import requests\n",
        "from bs4 import BeautifulSoup"
      ],
      "execution_count": null,
      "outputs": []
    },
    {
      "cell_type": "code",
      "metadata": {
        "colab": {
          "base_uri": "https://localhost:8080/"
        },
        "id": "dFKRfmSp2UQt",
        "outputId": "5fa60f20-edd8-4ba4-f9e3-00b0b33be082"
      },
      "source": [
        "day, month, year = map(int, input().split())"
      ],
      "execution_count": null,
      "outputs": [
        {
          "output_type": "stream",
          "text": [
            "24 7 1970\n"
          ],
          "name": "stdout"
        }
      ]
    },
    {
      "cell_type": "code",
      "metadata": {
        "id": "XO6tTu_l2EoJ"
      },
      "source": [
        "response = requests.get(\n",
        "    \"https://www.billboard.com/charts/hot-100/{}-{:02}-{:02}\".format(year, month, day))\n",
        "\n",
        "soup = BeautifulSoup(response.text, 'html.parser')"
      ],
      "execution_count": null,
      "outputs": []
    },
    {
      "cell_type": "code",
      "metadata": {
        "id": "eEoi5jKB3UzH"
      },
      "source": [
        "data = []\n",
        "chart = soup.find_all(class_='chart-element__information')"
      ],
      "execution_count": null,
      "outputs": []
    },
    {
      "cell_type": "code",
      "metadata": {
        "id": "NlCdYQT23ZxO"
      },
      "source": [
        "for song in chart:\n",
        "    song_name = song.find(\n",
        "        class_='chart-element__information__song text--truncate color--primary').text\n",
        "    \n",
        "    artist = song.find(\n",
        "        class_='chart-element__information__artist text--truncate color--secondary').text\n",
        "    \n",
        "    delta = song.find(\n",
        "        class_='chart-element__information__delta__text text--default').text\n",
        "    \n",
        "    last_week = song.find(\n",
        "        class_='chart-element__information__delta__text text--last').text\n",
        "    last_week = last_week.split(' ')[0]\n",
        "\n",
        "    peak_rank = song.find(\n",
        "        class_='chart-element__information__delta__text text--peak').text\n",
        "    peak_rank = int(peak_rank.split(' ')[0])\n",
        "\n",
        "    weeks_on_chart = song.find(\n",
        "        class_='chart-element__information__delta__text text--week').text\n",
        "    weeks_on_chart = int(weeks_on_chart.split(' ')[0])\n",
        "\n",
        "    data.append([song_name, artist, delta, last_week,\n",
        "                peak_rank, weeks_on_chart])"
      ],
      "execution_count": null,
      "outputs": []
    },
    {
      "cell_type": "code",
      "metadata": {
        "id": "A7EOrik-3hyA"
      },
      "source": [
        "df = pd.DataFrame(data=data, columns=[\n",
        "                  'song', 'artist', 'delta', 'last_week', 'peak_rank', 'weeks_on_chart'])"
      ],
      "execution_count": null,
      "outputs": []
    },
    {
      "cell_type": "code",
      "metadata": {
        "colab": {
          "base_uri": "https://localhost:8080/",
          "height": 459
        },
        "id": "3UZc3TVP3nfb",
        "outputId": "aaf428b8-f7f5-4f3a-ba68-2c2a03077ba0"
      },
      "source": [
        "df"
      ],
      "execution_count": null,
      "outputs": [
        {
          "output_type": "execute_result",
          "data": {
            "text/html": [
              "<div>\n",
              "<style scoped>\n",
              "    .dataframe tbody tr th:only-of-type {\n",
              "        vertical-align: middle;\n",
              "    }\n",
              "\n",
              "    .dataframe tbody tr th {\n",
              "        vertical-align: top;\n",
              "    }\n",
              "\n",
              "    .dataframe thead th {\n",
              "        text-align: right;\n",
              "    }\n",
              "</style>\n",
              "<table border=\"1\" class=\"dataframe\">\n",
              "  <thead>\n",
              "    <tr style=\"text-align: right;\">\n",
              "      <th></th>\n",
              "      <th>song</th>\n",
              "      <th>artist</th>\n",
              "      <th>delta</th>\n",
              "      <th>last_week</th>\n",
              "      <th>peak_rank</th>\n",
              "      <th>weeks_on_chart</th>\n",
              "    </tr>\n",
              "  </thead>\n",
              "  <tbody>\n",
              "    <tr>\n",
              "      <th>0</th>\n",
              "      <td>(They Long To Be) Close To You</td>\n",
              "      <td>Carpenters</td>\n",
              "      <td>+2</td>\n",
              "      <td>3</td>\n",
              "      <td>1</td>\n",
              "      <td>6</td>\n",
              "    </tr>\n",
              "    <tr>\n",
              "      <th>1</th>\n",
              "      <td>Mama Told Me (Not To Come)</td>\n",
              "      <td>Three Dog Night</td>\n",
              "      <td>-1</td>\n",
              "      <td>1</td>\n",
              "      <td>1</td>\n",
              "      <td>10</td>\n",
              "    </tr>\n",
              "    <tr>\n",
              "      <th>2</th>\n",
              "      <td>Band Of Gold</td>\n",
              "      <td>Freda Payne</td>\n",
              "      <td>+1</td>\n",
              "      <td>4</td>\n",
              "      <td>3</td>\n",
              "      <td>14</td>\n",
              "    </tr>\n",
              "    <tr>\n",
              "      <th>3</th>\n",
              "      <td>The Love You Save/I Found That Girl</td>\n",
              "      <td>Jackson 5</td>\n",
              "      <td>-2</td>\n",
              "      <td>2</td>\n",
              "      <td>1</td>\n",
              "      <td>9</td>\n",
              "    </tr>\n",
              "    <tr>\n",
              "      <th>4</th>\n",
              "      <td>Make It With You</td>\n",
              "      <td>Bread</td>\n",
              "      <td>+5</td>\n",
              "      <td>10</td>\n",
              "      <td>5</td>\n",
              "      <td>7</td>\n",
              "    </tr>\n",
              "    <tr>\n",
              "      <th>...</th>\n",
              "      <td>...</td>\n",
              "      <td>...</td>\n",
              "      <td>...</td>\n",
              "      <td>...</td>\n",
              "      <td>...</td>\n",
              "      <td>...</td>\n",
              "    </tr>\n",
              "    <tr>\n",
              "      <th>95</th>\n",
              "      <td>Yellow River</td>\n",
              "      <td>Christie</td>\n",
              "      <td>+2</td>\n",
              "      <td>98</td>\n",
              "      <td>96</td>\n",
              "      <td>2</td>\n",
              "    </tr>\n",
              "    <tr>\n",
              "      <th>96</th>\n",
              "      <td>Candida</td>\n",
              "      <td>Dawn</td>\n",
              "      <td>-</td>\n",
              "      <td>-</td>\n",
              "      <td>97</td>\n",
              "      <td>1</td>\n",
              "    </tr>\n",
              "    <tr>\n",
              "      <th>97</th>\n",
              "      <td>Morning Much Better</td>\n",
              "      <td>Ten Wheel Drive With Genya Ravan</td>\n",
              "      <td>-</td>\n",
              "      <td>-</td>\n",
              "      <td>98</td>\n",
              "      <td>1</td>\n",
              "    </tr>\n",
              "    <tr>\n",
              "      <th>98</th>\n",
              "      <td>It's A Shame</td>\n",
              "      <td>The Spinners</td>\n",
              "      <td>-</td>\n",
              "      <td>-</td>\n",
              "      <td>99</td>\n",
              "      <td>1</td>\n",
              "    </tr>\n",
              "    <tr>\n",
              "      <th>99</th>\n",
              "      <td>Big Yellow Taxi</td>\n",
              "      <td>Joni Mitchell</td>\n",
              "      <td>-</td>\n",
              "      <td>-</td>\n",
              "      <td>100</td>\n",
              "      <td>1</td>\n",
              "    </tr>\n",
              "  </tbody>\n",
              "</table>\n",
              "<p>100 rows × 6 columns</p>\n",
              "</div>"
            ],
            "text/plain": [
              "                                   song  ... weeks_on_chart\n",
              "0        (They Long To Be) Close To You  ...              6\n",
              "1            Mama Told Me (Not To Come)  ...             10\n",
              "2                          Band Of Gold  ...             14\n",
              "3   The Love You Save/I Found That Girl  ...              9\n",
              "4                      Make It With You  ...              7\n",
              "..                                  ...  ...            ...\n",
              "95                         Yellow River  ...              2\n",
              "96                              Candida  ...              1\n",
              "97                  Morning Much Better  ...              1\n",
              "98                         It's A Shame  ...              1\n",
              "99                      Big Yellow Taxi  ...              1\n",
              "\n",
              "[100 rows x 6 columns]"
            ]
          },
          "metadata": {
            "tags": []
          },
          "execution_count": 7
        }
      ]
    },
    {
      "cell_type": "code",
      "metadata": {
        "id": "pVXjU3Et4Ug8"
      },
      "source": [
        "df.to_csv('./{}-{:02}-{:02}_billboard_hot_100.csv'.format(year, month, day))"
      ],
      "execution_count": null,
      "outputs": []
    }
  ]
}